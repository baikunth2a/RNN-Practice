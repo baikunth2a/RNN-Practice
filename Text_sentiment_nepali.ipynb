{
 "cells": [
  {
   "cell_type": "code",
   "execution_count": 1,
   "metadata": {},
   "outputs": [],
   "source": [
    "#!canda install pydot\n",
    "#!conda install graphviz\n",
    "#!conda install pydotplus"
   ]
  },
  {
   "cell_type": "code",
   "execution_count": 2,
   "metadata": {},
   "outputs": [],
   "source": [
    "from numpy import array\n",
    "from keras.preprocessing import text\n",
    "from keras.preprocessing.sequence import pad_sequences\n",
    "from keras.models import Sequential\n",
    "from keras.layers import Dense, Flatten, GlobalMaxPooling1D\n",
    "from keras.utils.vis_utils import plot_model\n",
    "from keras.layers.embeddings import Embedding\n",
    "from keras.callbacks import LambdaCallback"
   ]
  },
  {
   "cell_type": "code",
   "execution_count": 3,
   "metadata": {},
   "outputs": [],
   "source": [
    "# define documents\n",
    "docs = ['राम्रो छ',\n",
    "'राम्रो काम',\n",
    "'राम्रो प्रयास',\n",
    "'ठिक छ',\n",
    "'सहि छ',\n",
    "'गलत छैन',\n",
    "'गलत  छ',\n",
    "'नराम्रो प्रयास',\n",
    "'राम्रो छैन',\n",
    "'नराम्रो काम',\n",
    "'अझै राम्रो  गर्नु पर्दछ']\n",
    "# define class labels\n",
    "labels = array([1,1,1,1,1,1,0,0,0,0,0])"
   ]
  },
  {
   "cell_type": "code",
   "execution_count": 4,
   "metadata": {},
   "outputs": [],
   "source": [
    "# tokenize documents\n",
    "tokenizer = text.Tokenizer()\n",
    "tokenizer.fit_on_texts(docs)\n",
    "word2idx = tokenizer.word_index"
   ]
  },
  {
   "cell_type": "code",
   "execution_count": 5,
   "metadata": {
    "scrolled": true
   },
   "outputs": [
    {
     "name": "stdout",
     "output_type": "stream",
     "text": [
      "[[1, 2], [1, 3], [1, 4], [8, 2], [9, 2], [5, 6], [5, 2], [7, 4], [1, 6], [7, 3], [10, 1, 11, 12]]\n"
     ]
    }
   ],
   "source": [
    "# integer encode the documents\n",
    "encoded_docs = [[word2idx[w] for w in text.text_to_word_sequence(doc)] for doc in docs]\n",
    "print(encoded_docs)"
   ]
  },
  {
   "cell_type": "code",
   "execution_count": 6,
   "metadata": {},
   "outputs": [
    {
     "name": "stdout",
     "output_type": "stream",
     "text": [
      "\n"
     ]
    }
   ],
   "source": [
    "print()"
   ]
  },
  {
   "cell_type": "code",
   "execution_count": 7,
   "metadata": {
    "scrolled": true
   },
   "outputs": [
    {
     "name": "stdout",
     "output_type": "stream",
     "text": [
      "[['राम्रो', 'छ'], ['राम्रो', 'काम'], ['राम्रो', 'प्रयास'], ['ठिक', 'छ'], ['सहि', 'छ'], ['गलत', 'छैन'], ['गलत', 'छ'], ['नराम्रो', 'प्रयास'], ['राम्रो', 'छैन'], ['नराम्रो', 'काम'], ['अझै', 'राम्रो', 'गर्नु', 'पर्दछ']]\n"
     ]
    }
   ],
   "source": [
    "print([text.text_to_word_sequence(doc) for doc in docs])"
   ]
  },
  {
   "cell_type": "code",
   "execution_count": 8,
   "metadata": {},
   "outputs": [
    {
     "name": "stdout",
     "output_type": "stream",
     "text": [
      "{'राम्रो': 1, 'छ': 2, 'काम': 3, 'प्रयास': 4, 'गलत': 5, 'छैन': 6, 'नराम्रो': 7, 'ठिक': 8, 'सहि': 9, 'अझै': 10, 'गर्नु': 11, 'पर्दछ': 12}\n"
     ]
    }
   ],
   "source": [
    "print(word2idx)"
   ]
  },
  {
   "cell_type": "code",
   "execution_count": 9,
   "metadata": {},
   "outputs": [],
   "source": [
    "# pad documents to a max length of 4 words\n",
    "max_length = 4\n",
    "vocab_size = 15 \n",
    "padded_docs = pad_sequences(encoded_docs, maxlen=max_length, padding='post')\n",
    "model = Sequential()\n",
    "model.add(Embedding(vocab_size, 8, input_length=max_length ))\n",
    "model.add(GlobalMaxPooling1D())\n",
    "model.add(Flatten())\n",
    "model.add(Dense(1, activation='sigmoid'))"
   ]
  },
  {
   "cell_type": "code",
   "execution_count": 10,
   "metadata": {},
   "outputs": [
    {
     "data": {
      "image/png": "[encoded data removed]",
      "text/plain": [
       "<IPython.core.display.Image object>"
      ]
     },
     "execution_count": 10,
     "metadata": {},
     "output_type": "execute_result"
    }
   ],
   "source": [
    "model.compile(optimizer='adam', loss='binary_crossentropy', metrics=['accuracy'])\n",
    "plot_model(model, to_file='sentiment_plot.png', show_shapes=True, show_layer_names=True)"
   ]
  },
  {
   "cell_type": "code",
   "execution_count": 11,
   "metadata": {},
   "outputs": [
    {
     "name": "stdout",
     "output_type": "stream",
     "text": [
      "Accuracy: 100.000000\n"
     ]
    }
   ],
   "source": [
    "# fit the model\n",
    "model.fit(padded_docs, labels, epochs=1000, verbose=0 )\n",
    "# evaluate the model\n",
    "loss, accuracy = model.evaluate(padded_docs, labels, verbose=0)\n",
    "print('Accuracy: %f' % (accuracy*100))"
   ]
  },
  {
   "cell_type": "code",
   "execution_count": 12,
   "metadata": {},
   "outputs": [
    {
     "name": "stdout",
     "output_type": "stream",
     "text": [
      "राम्रो\n"
     ]
    }
   ],
   "source": [
    "text_input = \"गलत छैन\"\n",
    "print(\"राम्रो\" if model.predict(pad_sequences([[word2idx[w] for w in text.text_to_word_sequence(text_input)]], maxlen=max_length, padding='post'))[0] > 0.5 else \"नराम्रो\")"
   ]
  }
 ],
 "metadata": {
  "kernelspec": {
   "display_name": "Python 3",
   "language": "python",
   "name": "python3"
  },
  "language_info": {
   "codemirror_mode": {
    "name": "ipython",
    "version": 3
   },
   "file_extension": ".py",
   "mimetype": "text/x-python",
   "name": "python",
   "nbconvert_exporter": "python",
   "pygments_lexer": "ipython3",
   "version": "3.8.3"
  }
 },
 "nbformat": 4,
 "nbformat_minor": 4
}
